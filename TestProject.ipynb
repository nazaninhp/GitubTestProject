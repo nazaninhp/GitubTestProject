{
  "nbformat": 4,
  "nbformat_minor": 0,
  "metadata": {
    "colab": {
      "name": "Homework M1.ipynb",
      "provenance": [],
      "collapsed_sections": [],
      "toc_visible": true
    },
    "kernelspec": {
      "name": "python3",
      "display_name": "Python 3"
    }
  },
  "cells": [
    {
      "cell_type": "markdown",
      "metadata": {
        "id": "FYGEbkRnQR3T"
      },
      "source": [
        "# Homework 1\n",
        "Create a small neural network in keras that classifies the different types of winee. They labels are the columns called \"Class\".\n",
        "\n",
        "Print the history of the neural network with the loss, validation loss, accuracy and validation accuracy"
      ]
    },
    {
      "cell_type": "code",
      "metadata": {
        "id": "IVgMwO9VO_jl",
        "colab": {
          "base_uri": "https://localhost:8080/"
        },
        "outputId": "90240800-f9b8-4c83-eedc-1e54148d2eed"
      },
      "source": [
        "!wget https://storage.googleapis.com/nicksdemobucket/wines.csv"
      ],
      "execution_count": 1,
      "outputs": [
        {
          "output_type": "stream",
          "text": [
            "--2021-04-22 14:58:04--  https://storage.googleapis.com/nicksdemobucket/wines.csv\n",
            "Resolving storage.googleapis.com (storage.googleapis.com)... 74.125.70.128, 74.125.201.128, 74.125.202.128, ...\n",
            "Connecting to storage.googleapis.com (storage.googleapis.com)|74.125.70.128|:443... connected.\n",
            "HTTP request sent, awaiting response... 200 OK\n",
            "Length: 10957 (11K) [application/octet-stream]\n",
            "Saving to: ‘wines.csv’\n",
            "\n",
            "\rwines.csv             0%[                    ]       0  --.-KB/s               \rwines.csv           100%[===================>]  10.70K  --.-KB/s    in 0s      \n",
            "\n",
            "2021-04-22 14:58:05 (94.7 MB/s) - ‘wines.csv’ saved [10957/10957]\n",
            "\n"
          ],
          "name": "stdout"
        }
      ]
    },
    {
      "cell_type": "markdown",
      "metadata": {
        "id": "tC9NOJT9Msjk"
      },
      "source": [
        "# **Import all the Library that I need**"
      ]
    },
    {
      "cell_type": "code",
      "metadata": {
        "id": "R7Izi24eMyH1"
      },
      "source": [
        "from sklearn.model_selection import train_test_split\n",
        "import pandas as pd\n",
        "import numpy as np\n",
        "import tensorflow as tf\n",
        "from tensorflow import keras\n",
        "from tensorflow.keras import layers\n",
        "from keras.layers import Dense\n",
        "from keras.models import Sequential\n",
        "\n",
        "\n"
      ],
      "execution_count": 2,
      "outputs": []
    },
    {
      "cell_type": "code",
      "metadata": {
        "id": "poY3OUIoQFZC",
        "colab": {
          "base_uri": "https://localhost:8080/",
          "height": 204
        },
        "outputId": "4f626221-60e6-4213-b698-9a1a30f15b80"
      },
      "source": [
        "\n",
        "df = pd.read_csv('wines.csv')\n",
        "df.head()"
      ],
      "execution_count": 3,
      "outputs": [
        {
          "output_type": "execute_result",
          "data": {
            "text/html": [
              "<div>\n",
              "<style scoped>\n",
              "    .dataframe tbody tr th:only-of-type {\n",
              "        vertical-align: middle;\n",
              "    }\n",
              "\n",
              "    .dataframe tbody tr th {\n",
              "        vertical-align: top;\n",
              "    }\n",
              "\n",
              "    .dataframe thead th {\n",
              "        text-align: right;\n",
              "    }\n",
              "</style>\n",
              "<table border=\"1\" class=\"dataframe\">\n",
              "  <thead>\n",
              "    <tr style=\"text-align: right;\">\n",
              "      <th></th>\n",
              "      <th>Class</th>\n",
              "      <th>Alcohol</th>\n",
              "      <th>Malic_acid</th>\n",
              "      <th>Ash</th>\n",
              "      <th>Alcalinity_of_ash</th>\n",
              "      <th>Magnesium</th>\n",
              "      <th>Total_phenols</th>\n",
              "      <th>Flavanoids</th>\n",
              "      <th>Nonflavanoid_phenols</th>\n",
              "      <th>Proanthocyanins</th>\n",
              "      <th>Color_intensity</th>\n",
              "      <th>Hue</th>\n",
              "      <th>OD280-OD315_of_diluted_wines</th>\n",
              "      <th>Proline</th>\n",
              "    </tr>\n",
              "  </thead>\n",
              "  <tbody>\n",
              "    <tr>\n",
              "      <th>0</th>\n",
              "      <td>1</td>\n",
              "      <td>14.23</td>\n",
              "      <td>1.71</td>\n",
              "      <td>2.43</td>\n",
              "      <td>15.6</td>\n",
              "      <td>127</td>\n",
              "      <td>2.80</td>\n",
              "      <td>3.06</td>\n",
              "      <td>0.28</td>\n",
              "      <td>2.29</td>\n",
              "      <td>5.64</td>\n",
              "      <td>1.04</td>\n",
              "      <td>3.92</td>\n",
              "      <td>1065</td>\n",
              "    </tr>\n",
              "    <tr>\n",
              "      <th>1</th>\n",
              "      <td>1</td>\n",
              "      <td>13.20</td>\n",
              "      <td>1.78</td>\n",
              "      <td>2.14</td>\n",
              "      <td>11.2</td>\n",
              "      <td>100</td>\n",
              "      <td>2.65</td>\n",
              "      <td>2.76</td>\n",
              "      <td>0.26</td>\n",
              "      <td>1.28</td>\n",
              "      <td>4.38</td>\n",
              "      <td>1.05</td>\n",
              "      <td>3.40</td>\n",
              "      <td>1050</td>\n",
              "    </tr>\n",
              "    <tr>\n",
              "      <th>2</th>\n",
              "      <td>1</td>\n",
              "      <td>13.16</td>\n",
              "      <td>2.36</td>\n",
              "      <td>2.67</td>\n",
              "      <td>18.6</td>\n",
              "      <td>101</td>\n",
              "      <td>2.80</td>\n",
              "      <td>3.24</td>\n",
              "      <td>0.30</td>\n",
              "      <td>2.81</td>\n",
              "      <td>5.68</td>\n",
              "      <td>1.03</td>\n",
              "      <td>3.17</td>\n",
              "      <td>1185</td>\n",
              "    </tr>\n",
              "    <tr>\n",
              "      <th>3</th>\n",
              "      <td>1</td>\n",
              "      <td>14.37</td>\n",
              "      <td>1.95</td>\n",
              "      <td>2.50</td>\n",
              "      <td>16.8</td>\n",
              "      <td>113</td>\n",
              "      <td>3.85</td>\n",
              "      <td>3.49</td>\n",
              "      <td>0.24</td>\n",
              "      <td>2.18</td>\n",
              "      <td>7.80</td>\n",
              "      <td>0.86</td>\n",
              "      <td>3.45</td>\n",
              "      <td>1480</td>\n",
              "    </tr>\n",
              "    <tr>\n",
              "      <th>4</th>\n",
              "      <td>1</td>\n",
              "      <td>13.24</td>\n",
              "      <td>2.59</td>\n",
              "      <td>2.87</td>\n",
              "      <td>21.0</td>\n",
              "      <td>118</td>\n",
              "      <td>2.80</td>\n",
              "      <td>2.69</td>\n",
              "      <td>0.39</td>\n",
              "      <td>1.82</td>\n",
              "      <td>4.32</td>\n",
              "      <td>1.04</td>\n",
              "      <td>2.93</td>\n",
              "      <td>735</td>\n",
              "    </tr>\n",
              "  </tbody>\n",
              "</table>\n",
              "</div>"
            ],
            "text/plain": [
              "   Class  Alcohol  Malic_acid  ...   Hue  OD280-OD315_of_diluted_wines  Proline\n",
              "0      1    14.23        1.71  ...  1.04                          3.92     1065\n",
              "1      1    13.20        1.78  ...  1.05                          3.40     1050\n",
              "2      1    13.16        2.36  ...  1.03                          3.17     1185\n",
              "3      1    14.37        1.95  ...  0.86                          3.45     1480\n",
              "4      1    13.24        2.59  ...  1.04                          2.93      735\n",
              "\n",
              "[5 rows x 14 columns]"
            ]
          },
          "metadata": {
            "tags": []
          },
          "execution_count": 3
        }
      ]
    },
    {
      "cell_type": "code",
      "metadata": {
        "id": "atevhiNqQKBV",
        "colab": {
          "base_uri": "https://localhost:8080/",
          "height": 334
        },
        "outputId": "f452225b-3bdd-4544-f7d0-a8a06205ddd5"
      },
      "source": [
        "df.describe()"
      ],
      "execution_count": 4,
      "outputs": [
        {
          "output_type": "execute_result",
          "data": {
            "text/html": [
              "<div>\n",
              "<style scoped>\n",
              "    .dataframe tbody tr th:only-of-type {\n",
              "        vertical-align: middle;\n",
              "    }\n",
              "\n",
              "    .dataframe tbody tr th {\n",
              "        vertical-align: top;\n",
              "    }\n",
              "\n",
              "    .dataframe thead th {\n",
              "        text-align: right;\n",
              "    }\n",
              "</style>\n",
              "<table border=\"1\" class=\"dataframe\">\n",
              "  <thead>\n",
              "    <tr style=\"text-align: right;\">\n",
              "      <th></th>\n",
              "      <th>Class</th>\n",
              "      <th>Alcohol</th>\n",
              "      <th>Malic_acid</th>\n",
              "      <th>Ash</th>\n",
              "      <th>Alcalinity_of_ash</th>\n",
              "      <th>Magnesium</th>\n",
              "      <th>Total_phenols</th>\n",
              "      <th>Flavanoids</th>\n",
              "      <th>Nonflavanoid_phenols</th>\n",
              "      <th>Proanthocyanins</th>\n",
              "      <th>Color_intensity</th>\n",
              "      <th>Hue</th>\n",
              "      <th>OD280-OD315_of_diluted_wines</th>\n",
              "      <th>Proline</th>\n",
              "    </tr>\n",
              "  </thead>\n",
              "  <tbody>\n",
              "    <tr>\n",
              "      <th>count</th>\n",
              "      <td>178.000000</td>\n",
              "      <td>178.000000</td>\n",
              "      <td>178.000000</td>\n",
              "      <td>178.000000</td>\n",
              "      <td>178.000000</td>\n",
              "      <td>178.000000</td>\n",
              "      <td>178.000000</td>\n",
              "      <td>178.000000</td>\n",
              "      <td>178.000000</td>\n",
              "      <td>178.000000</td>\n",
              "      <td>178.000000</td>\n",
              "      <td>178.000000</td>\n",
              "      <td>178.000000</td>\n",
              "      <td>178.000000</td>\n",
              "    </tr>\n",
              "    <tr>\n",
              "      <th>mean</th>\n",
              "      <td>1.938202</td>\n",
              "      <td>13.000618</td>\n",
              "      <td>2.336348</td>\n",
              "      <td>2.366517</td>\n",
              "      <td>19.494944</td>\n",
              "      <td>99.741573</td>\n",
              "      <td>2.295112</td>\n",
              "      <td>2.029270</td>\n",
              "      <td>0.361854</td>\n",
              "      <td>1.590899</td>\n",
              "      <td>5.058090</td>\n",
              "      <td>0.957449</td>\n",
              "      <td>2.611685</td>\n",
              "      <td>746.893258</td>\n",
              "    </tr>\n",
              "    <tr>\n",
              "      <th>std</th>\n",
              "      <td>0.775035</td>\n",
              "      <td>0.811827</td>\n",
              "      <td>1.117146</td>\n",
              "      <td>0.274344</td>\n",
              "      <td>3.339564</td>\n",
              "      <td>14.282484</td>\n",
              "      <td>0.625851</td>\n",
              "      <td>0.998859</td>\n",
              "      <td>0.124453</td>\n",
              "      <td>0.572359</td>\n",
              "      <td>2.318286</td>\n",
              "      <td>0.228572</td>\n",
              "      <td>0.709990</td>\n",
              "      <td>314.907474</td>\n",
              "    </tr>\n",
              "    <tr>\n",
              "      <th>min</th>\n",
              "      <td>1.000000</td>\n",
              "      <td>11.030000</td>\n",
              "      <td>0.740000</td>\n",
              "      <td>1.360000</td>\n",
              "      <td>10.600000</td>\n",
              "      <td>70.000000</td>\n",
              "      <td>0.980000</td>\n",
              "      <td>0.340000</td>\n",
              "      <td>0.130000</td>\n",
              "      <td>0.410000</td>\n",
              "      <td>1.280000</td>\n",
              "      <td>0.480000</td>\n",
              "      <td>1.270000</td>\n",
              "      <td>278.000000</td>\n",
              "    </tr>\n",
              "    <tr>\n",
              "      <th>25%</th>\n",
              "      <td>1.000000</td>\n",
              "      <td>12.362500</td>\n",
              "      <td>1.602500</td>\n",
              "      <td>2.210000</td>\n",
              "      <td>17.200000</td>\n",
              "      <td>88.000000</td>\n",
              "      <td>1.742500</td>\n",
              "      <td>1.205000</td>\n",
              "      <td>0.270000</td>\n",
              "      <td>1.250000</td>\n",
              "      <td>3.220000</td>\n",
              "      <td>0.782500</td>\n",
              "      <td>1.937500</td>\n",
              "      <td>500.500000</td>\n",
              "    </tr>\n",
              "    <tr>\n",
              "      <th>50%</th>\n",
              "      <td>2.000000</td>\n",
              "      <td>13.050000</td>\n",
              "      <td>1.865000</td>\n",
              "      <td>2.360000</td>\n",
              "      <td>19.500000</td>\n",
              "      <td>98.000000</td>\n",
              "      <td>2.355000</td>\n",
              "      <td>2.135000</td>\n",
              "      <td>0.340000</td>\n",
              "      <td>1.555000</td>\n",
              "      <td>4.690000</td>\n",
              "      <td>0.965000</td>\n",
              "      <td>2.780000</td>\n",
              "      <td>673.500000</td>\n",
              "    </tr>\n",
              "    <tr>\n",
              "      <th>75%</th>\n",
              "      <td>3.000000</td>\n",
              "      <td>13.677500</td>\n",
              "      <td>3.082500</td>\n",
              "      <td>2.557500</td>\n",
              "      <td>21.500000</td>\n",
              "      <td>107.000000</td>\n",
              "      <td>2.800000</td>\n",
              "      <td>2.875000</td>\n",
              "      <td>0.437500</td>\n",
              "      <td>1.950000</td>\n",
              "      <td>6.200000</td>\n",
              "      <td>1.120000</td>\n",
              "      <td>3.170000</td>\n",
              "      <td>985.000000</td>\n",
              "    </tr>\n",
              "    <tr>\n",
              "      <th>max</th>\n",
              "      <td>3.000000</td>\n",
              "      <td>14.830000</td>\n",
              "      <td>5.800000</td>\n",
              "      <td>3.230000</td>\n",
              "      <td>30.000000</td>\n",
              "      <td>162.000000</td>\n",
              "      <td>3.880000</td>\n",
              "      <td>5.080000</td>\n",
              "      <td>0.660000</td>\n",
              "      <td>3.580000</td>\n",
              "      <td>13.000000</td>\n",
              "      <td>1.710000</td>\n",
              "      <td>4.000000</td>\n",
              "      <td>1680.000000</td>\n",
              "    </tr>\n",
              "  </tbody>\n",
              "</table>\n",
              "</div>"
            ],
            "text/plain": [
              "            Class     Alcohol  ...  OD280-OD315_of_diluted_wines      Proline\n",
              "count  178.000000  178.000000  ...                    178.000000   178.000000\n",
              "mean     1.938202   13.000618  ...                      2.611685   746.893258\n",
              "std      0.775035    0.811827  ...                      0.709990   314.907474\n",
              "min      1.000000   11.030000  ...                      1.270000   278.000000\n",
              "25%      1.000000   12.362500  ...                      1.937500   500.500000\n",
              "50%      2.000000   13.050000  ...                      2.780000   673.500000\n",
              "75%      3.000000   13.677500  ...                      3.170000   985.000000\n",
              "max      3.000000   14.830000  ...                      4.000000  1680.000000\n",
              "\n",
              "[8 rows x 14 columns]"
            ]
          },
          "metadata": {
            "tags": []
          },
          "execution_count": 4
        }
      ]
    },
    {
      "cell_type": "code",
      "metadata": {
        "colab": {
          "base_uri": "https://localhost:8080/"
        },
        "id": "rSQGDzJXG4KV",
        "outputId": "be732ef0-ef7e-4893-e738-1513dee7b0c2"
      },
      "source": [
        "df.shape"
      ],
      "execution_count": 5,
      "outputs": [
        {
          "output_type": "execute_result",
          "data": {
            "text/plain": [
              "(178, 14)"
            ]
          },
          "metadata": {
            "tags": []
          },
          "execution_count": 5
        }
      ]
    },
    {
      "cell_type": "code",
      "metadata": {
        "id": "V5ucbHJIG8zs"
      },
      "source": [
        "X=df.drop(['Class'], axis=1).values"
      ],
      "execution_count": 6,
      "outputs": []
    },
    {
      "cell_type": "code",
      "metadata": {
        "colab": {
          "base_uri": "https://localhost:8080/"
        },
        "id": "sUX5X3RsH-Lx",
        "outputId": "b8ea3e9d-0d58-49ea-9231-787366ebda7c"
      },
      "source": [
        "X.shape"
      ],
      "execution_count": 7,
      "outputs": [
        {
          "output_type": "execute_result",
          "data": {
            "text/plain": [
              "(178, 13)"
            ]
          },
          "metadata": {
            "tags": []
          },
          "execution_count": 7
        }
      ]
    },
    {
      "cell_type": "code",
      "metadata": {
        "id": "0Zt1CaqCJV2O"
      },
      "source": [
        "y=df['Class'].values"
      ],
      "execution_count": 8,
      "outputs": []
    },
    {
      "cell_type": "code",
      "metadata": {
        "colab": {
          "base_uri": "https://localhost:8080/"
        },
        "id": "tBnW4ABcJeDP",
        "outputId": "efeee2ae-ca48-4db6-cde0-9d2a5b56ce5d"
      },
      "source": [
        "y.shape"
      ],
      "execution_count": 9,
      "outputs": [
        {
          "output_type": "execute_result",
          "data": {
            "text/plain": [
              "(178,)"
            ]
          },
          "metadata": {
            "tags": []
          },
          "execution_count": 9
        }
      ]
    },
    {
      "cell_type": "code",
      "metadata": {
        "colab": {
          "base_uri": "https://localhost:8080/"
        },
        "id": "HbjAJgGRXjN5",
        "outputId": "c9955db2-7256-4197-bc87-05c23cbde20f"
      },
      "source": [
        "y"
      ],
      "execution_count": 10,
      "outputs": [
        {
          "output_type": "execute_result",
          "data": {
            "text/plain": [
              "array([1, 1, 1, 1, 1, 1, 1, 1, 1, 1, 1, 1, 1, 1, 1, 1, 1, 1, 1, 1, 1, 1,\n",
              "       1, 1, 1, 1, 1, 1, 1, 1, 1, 1, 1, 1, 1, 1, 1, 1, 1, 1, 1, 1, 1, 1,\n",
              "       1, 1, 1, 1, 1, 1, 1, 1, 1, 1, 1, 1, 1, 1, 1, 2, 2, 2, 2, 2, 2, 2,\n",
              "       2, 2, 2, 2, 2, 2, 2, 2, 2, 2, 2, 2, 2, 2, 2, 2, 2, 2, 2, 2, 2, 2,\n",
              "       2, 2, 2, 2, 2, 2, 2, 2, 2, 2, 2, 2, 2, 2, 2, 2, 2, 2, 2, 2, 2, 2,\n",
              "       2, 2, 2, 2, 2, 2, 2, 2, 2, 2, 2, 2, 2, 2, 2, 2, 2, 2, 2, 2, 3, 3,\n",
              "       3, 3, 3, 3, 3, 3, 3, 3, 3, 3, 3, 3, 3, 3, 3, 3, 3, 3, 3, 3, 3, 3,\n",
              "       3, 3, 3, 3, 3, 3, 3, 3, 3, 3, 3, 3, 3, 3, 3, 3, 3, 3, 3, 3, 3, 3,\n",
              "       3, 3])"
            ]
          },
          "metadata": {
            "tags": []
          },
          "execution_count": 10
        }
      ]
    },
    {
      "cell_type": "code",
      "metadata": {
        "id": "1D3SK964Ml1r"
      },
      "source": [
        "X_train,X_test,y_train,y_test=train_test_split(X,y,test_size=0.10,random_state=42)"
      ],
      "execution_count": 16,
      "outputs": []
    },
    {
      "cell_type": "code",
      "metadata": {
        "id": "HbPhzHgiQIRp"
      },
      "source": [
        "#expected input will be in batch of 13 diementional vectors. \n",
        "\n",
        "inputs=tf.keras.Input(shape=(13,))\n",
        "#x=inputs"
      ],
      "execution_count": 44,
      "outputs": []
    },
    {
      "cell_type": "code",
      "metadata": {
        "colab": {
          "base_uri": "https://localhost:8080/"
        },
        "id": "i5WvDF7TUtxu",
        "outputId": "527432fc-62f2-4878-fe86-5f4440766186"
      },
      "source": [
        "inputs"
      ],
      "execution_count": 45,
      "outputs": [
        {
          "output_type": "execute_result",
          "data": {
            "text/plain": [
              "<KerasTensor: shape=(None, 13) dtype=float32 (created by layer 'input_7')>"
            ]
          },
          "metadata": {
            "tags": []
          },
          "execution_count": 45
        }
      ]
    },
    {
      "cell_type": "code",
      "metadata": {
        "id": "Mgop0Pq-S0Jm"
      },
      "source": [
        "# Create a 3 hidden Layers\n",
        "\n",
        "x=tf.keras.layers.Dense(64,activation='relu')(inputs)\n",
        "x=tf.keras.layers.Dense(64,activation='relu')(x)\n",
        "x=tf.keras.layers.Dense(64,activation='relu')(x)\n",
        "\n",
        "# Create a Output layer with 3 Class\n",
        "outputs=tf.keras.layers.Dense(4,activation='softmax')(x)"
      ],
      "execution_count": 58,
      "outputs": []
    },
    {
      "cell_type": "code",
      "metadata": {
        "id": "X-rdIGniFxBk"
      },
      "source": [
        "# Create a simple Model in Keras\n",
        "model=tf.keras.Model(inputs=inputs,outputs=outputs,name=\"wine_model\")"
      ],
      "execution_count": 59,
      "outputs": []
    },
    {
      "cell_type": "code",
      "metadata": {
        "colab": {
          "base_uri": "https://localhost:8080/"
        },
        "id": "V1faiWIPHUyg",
        "outputId": "981a3a31-abfb-45f0-865d-1e709fb2666f"
      },
      "source": [
        "model.summary()"
      ],
      "execution_count": 60,
      "outputs": [
        {
          "output_type": "stream",
          "text": [
            "Model: \"wine_model\"\n",
            "_________________________________________________________________\n",
            "Layer (type)                 Output Shape              Param #   \n",
            "=================================================================\n",
            "input_7 (InputLayer)         [(None, 13)]              0         \n",
            "_________________________________________________________________\n",
            "dense_44 (Dense)             (None, 64)                896       \n",
            "_________________________________________________________________\n",
            "dense_45 (Dense)             (None, 64)                4160      \n",
            "_________________________________________________________________\n",
            "dense_46 (Dense)             (None, 64)                4160      \n",
            "_________________________________________________________________\n",
            "dense_47 (Dense)             (None, 4)                 260       \n",
            "=================================================================\n",
            "Total params: 9,476\n",
            "Trainable params: 9,476\n",
            "Non-trainable params: 0\n",
            "_________________________________________________________________\n"
          ],
          "name": "stdout"
        }
      ]
    },
    {
      "cell_type": "code",
      "metadata": {
        "id": "U-4QWBxLLyP4"
      },
      "source": [
        "#Compile the Model with Optimizer \n",
        "\n",
        "model.compile(optimizer='adam',loss='sparse_categorical_crossentropy',metrics=['accuracy'])"
      ],
      "execution_count": 61,
      "outputs": []
    },
    {
      "cell_type": "code",
      "metadata": {
        "colab": {
          "base_uri": "https://localhost:8080/"
        },
        "id": "iD7gTZmbP4yS",
        "outputId": "4dc13fd4-063c-4fc2-9b53-caeed2dc4bd8"
      },
      "source": [
        "#Fit the Model\n",
        "\n",
        "history=model.fit(X_train,y_train,batch_size=64,epochs=150,validation_split=0.2)"
      ],
      "execution_count": 66,
      "outputs": [
        {
          "output_type": "stream",
          "text": [
            "Epoch 1/150\n",
            "2/2 [==============================] - 0s 101ms/step - loss: 0.1678 - accuracy: 0.9375 - val_loss: 0.2442 - val_accuracy: 0.9062\n",
            "Epoch 2/150\n",
            "2/2 [==============================] - 0s 46ms/step - loss: 0.2022 - accuracy: 0.9375 - val_loss: 0.2381 - val_accuracy: 0.8750\n",
            "Epoch 3/150\n",
            "2/2 [==============================] - 0s 46ms/step - loss: 0.1675 - accuracy: 0.9531 - val_loss: 0.2465 - val_accuracy: 0.9062\n",
            "Epoch 4/150\n",
            "2/2 [==============================] - 0s 46ms/step - loss: 0.2062 - accuracy: 0.9219 - val_loss: 0.2353 - val_accuracy: 0.8750\n",
            "Epoch 5/150\n",
            "2/2 [==============================] - 0s 54ms/step - loss: 0.1765 - accuracy: 0.9453 - val_loss: 0.2948 - val_accuracy: 0.9062\n",
            "Epoch 6/150\n",
            "2/2 [==============================] - 0s 49ms/step - loss: 0.2169 - accuracy: 0.9297 - val_loss: 0.2728 - val_accuracy: 0.8750\n",
            "Epoch 7/150\n",
            "2/2 [==============================] - 0s 51ms/step - loss: 0.2349 - accuracy: 0.8906 - val_loss: 0.2365 - val_accuracy: 0.8438\n",
            "Epoch 8/150\n",
            "2/2 [==============================] - 0s 43ms/step - loss: 0.2447 - accuracy: 0.9141 - val_loss: 0.2411 - val_accuracy: 0.8438\n",
            "Epoch 9/150\n",
            "2/2 [==============================] - 0s 49ms/step - loss: 0.1591 - accuracy: 0.9297 - val_loss: 0.3022 - val_accuracy: 0.9062\n",
            "Epoch 10/150\n",
            "2/2 [==============================] - 0s 41ms/step - loss: 0.2161 - accuracy: 0.9141 - val_loss: 0.2408 - val_accuracy: 0.8750\n",
            "Epoch 11/150\n",
            "2/2 [==============================] - 0s 51ms/step - loss: 0.2046 - accuracy: 0.9453 - val_loss: 0.2346 - val_accuracy: 0.8750\n",
            "Epoch 12/150\n",
            "2/2 [==============================] - 0s 44ms/step - loss: 0.1775 - accuracy: 0.9219 - val_loss: 0.2420 - val_accuracy: 0.9375\n",
            "Epoch 13/150\n",
            "2/2 [==============================] - 0s 47ms/step - loss: 0.1938 - accuracy: 0.9297 - val_loss: 0.2526 - val_accuracy: 0.8750\n",
            "Epoch 14/150\n",
            "2/2 [==============================] - 0s 45ms/step - loss: 0.1980 - accuracy: 0.9297 - val_loss: 0.2545 - val_accuracy: 0.9062\n",
            "Epoch 15/150\n",
            "2/2 [==============================] - 0s 42ms/step - loss: 0.1709 - accuracy: 0.9375 - val_loss: 0.2325 - val_accuracy: 0.8750\n",
            "Epoch 16/150\n",
            "2/2 [==============================] - 0s 48ms/step - loss: 0.1761 - accuracy: 0.9375 - val_loss: 0.2292 - val_accuracy: 0.8750\n",
            "Epoch 17/150\n",
            "2/2 [==============================] - 0s 43ms/step - loss: 0.1548 - accuracy: 0.9531 - val_loss: 0.2599 - val_accuracy: 0.9062\n",
            "Epoch 18/150\n",
            "2/2 [==============================] - 0s 45ms/step - loss: 0.1963 - accuracy: 0.9219 - val_loss: 0.2460 - val_accuracy: 0.8438\n",
            "Epoch 19/150\n",
            "2/2 [==============================] - 0s 42ms/step - loss: 0.1685 - accuracy: 0.9531 - val_loss: 0.2339 - val_accuracy: 0.9062\n",
            "Epoch 20/150\n",
            "2/2 [==============================] - 0s 50ms/step - loss: 0.1743 - accuracy: 0.9453 - val_loss: 0.2285 - val_accuracy: 0.8750\n",
            "Epoch 21/150\n",
            "2/2 [==============================] - 0s 49ms/step - loss: 0.1808 - accuracy: 0.9453 - val_loss: 0.2459 - val_accuracy: 0.8750\n",
            "Epoch 22/150\n",
            "2/2 [==============================] - 0s 48ms/step - loss: 0.1538 - accuracy: 0.9609 - val_loss: 0.2371 - val_accuracy: 0.8750\n",
            "Epoch 23/150\n",
            "2/2 [==============================] - 0s 49ms/step - loss: 0.1723 - accuracy: 0.9375 - val_loss: 0.2237 - val_accuracy: 0.9062\n",
            "Epoch 24/150\n",
            "2/2 [==============================] - 0s 45ms/step - loss: 0.1838 - accuracy: 0.9453 - val_loss: 0.2452 - val_accuracy: 0.8750\n",
            "Epoch 25/150\n",
            "2/2 [==============================] - 0s 50ms/step - loss: 0.1582 - accuracy: 0.9609 - val_loss: 0.2385 - val_accuracy: 0.8750\n",
            "Epoch 26/150\n",
            "2/2 [==============================] - 0s 44ms/step - loss: 0.1731 - accuracy: 0.9531 - val_loss: 0.2269 - val_accuracy: 0.9062\n",
            "Epoch 27/150\n",
            "2/2 [==============================] - 0s 46ms/step - loss: 0.1567 - accuracy: 0.9531 - val_loss: 0.2455 - val_accuracy: 0.8438\n",
            "Epoch 28/150\n",
            "2/2 [==============================] - 0s 41ms/step - loss: 0.1589 - accuracy: 0.9609 - val_loss: 0.2262 - val_accuracy: 0.8750\n",
            "Epoch 29/150\n",
            "2/2 [==============================] - 0s 43ms/step - loss: 0.1615 - accuracy: 0.9531 - val_loss: 0.2260 - val_accuracy: 0.9062\n",
            "Epoch 30/150\n",
            "2/2 [==============================] - 0s 48ms/step - loss: 0.1573 - accuracy: 0.9453 - val_loss: 0.2327 - val_accuracy: 0.8750\n",
            "Epoch 31/150\n",
            "2/2 [==============================] - 0s 45ms/step - loss: 0.1724 - accuracy: 0.9453 - val_loss: 0.2208 - val_accuracy: 0.8750\n",
            "Epoch 32/150\n",
            "2/2 [==============================] - 0s 44ms/step - loss: 0.1647 - accuracy: 0.9375 - val_loss: 0.2217 - val_accuracy: 0.9062\n",
            "Epoch 33/150\n",
            "2/2 [==============================] - 0s 41ms/step - loss: 0.1602 - accuracy: 0.9688 - val_loss: 0.2337 - val_accuracy: 0.8438\n",
            "Epoch 34/150\n",
            "2/2 [==============================] - 0s 45ms/step - loss: 0.1827 - accuracy: 0.9453 - val_loss: 0.2365 - val_accuracy: 0.9062\n",
            "Epoch 35/150\n",
            "2/2 [==============================] - 0s 45ms/step - loss: 0.1960 - accuracy: 0.8984 - val_loss: 0.2279 - val_accuracy: 0.9375\n",
            "Epoch 36/150\n",
            "2/2 [==============================] - 0s 44ms/step - loss: 0.1772 - accuracy: 0.9609 - val_loss: 0.2434 - val_accuracy: 0.8750\n",
            "Epoch 37/150\n",
            "2/2 [==============================] - 0s 44ms/step - loss: 0.1682 - accuracy: 0.9531 - val_loss: 0.2247 - val_accuracy: 0.9375\n",
            "Epoch 38/150\n",
            "2/2 [==============================] - 0s 53ms/step - loss: 0.1670 - accuracy: 0.9297 - val_loss: 0.2181 - val_accuracy: 0.9062\n",
            "Epoch 39/150\n",
            "2/2 [==============================] - 0s 47ms/step - loss: 0.1637 - accuracy: 0.9609 - val_loss: 0.2418 - val_accuracy: 0.9062\n",
            "Epoch 40/150\n",
            "2/2 [==============================] - 0s 44ms/step - loss: 0.1667 - accuracy: 0.9531 - val_loss: 0.2399 - val_accuracy: 0.9062\n",
            "Epoch 41/150\n",
            "2/2 [==============================] - 0s 45ms/step - loss: 0.1707 - accuracy: 0.9219 - val_loss: 0.2225 - val_accuracy: 0.9062\n",
            "Epoch 42/150\n",
            "2/2 [==============================] - 0s 45ms/step - loss: 0.1596 - accuracy: 0.9609 - val_loss: 0.2192 - val_accuracy: 0.8750\n",
            "Epoch 43/150\n",
            "2/2 [==============================] - 0s 44ms/step - loss: 0.1527 - accuracy: 0.9609 - val_loss: 0.2249 - val_accuracy: 0.9062\n",
            "Epoch 44/150\n",
            "2/2 [==============================] - 0s 50ms/step - loss: 0.1602 - accuracy: 0.9531 - val_loss: 0.2133 - val_accuracy: 0.8750\n",
            "Epoch 45/150\n",
            "2/2 [==============================] - 0s 46ms/step - loss: 0.1541 - accuracy: 0.9609 - val_loss: 0.2227 - val_accuracy: 0.8750\n",
            "Epoch 46/150\n",
            "2/2 [==============================] - 0s 49ms/step - loss: 0.1640 - accuracy: 0.9453 - val_loss: 0.2301 - val_accuracy: 0.9062\n",
            "Epoch 47/150\n",
            "2/2 [==============================] - 0s 44ms/step - loss: 0.2086 - accuracy: 0.9141 - val_loss: 0.2209 - val_accuracy: 0.8750\n",
            "Epoch 48/150\n",
            "2/2 [==============================] - 0s 55ms/step - loss: 0.1398 - accuracy: 0.9531 - val_loss: 0.2657 - val_accuracy: 0.9062\n",
            "Epoch 49/150\n",
            "2/2 [==============================] - 0s 46ms/step - loss: 0.2017 - accuracy: 0.9453 - val_loss: 0.2274 - val_accuracy: 0.9375\n",
            "Epoch 50/150\n",
            "2/2 [==============================] - 0s 49ms/step - loss: 0.1611 - accuracy: 0.9375 - val_loss: 0.2152 - val_accuracy: 0.8438\n",
            "Epoch 51/150\n",
            "2/2 [==============================] - 0s 52ms/step - loss: 0.1524 - accuracy: 0.9609 - val_loss: 0.2181 - val_accuracy: 0.8750\n",
            "Epoch 52/150\n",
            "2/2 [==============================] - 0s 44ms/step - loss: 0.1598 - accuracy: 0.9453 - val_loss: 0.2246 - val_accuracy: 0.9375\n",
            "Epoch 53/150\n",
            "2/2 [==============================] - 0s 49ms/step - loss: 0.1777 - accuracy: 0.9219 - val_loss: 0.2195 - val_accuracy: 0.8750\n",
            "Epoch 54/150\n",
            "2/2 [==============================] - 0s 47ms/step - loss: 0.1661 - accuracy: 0.9453 - val_loss: 0.2180 - val_accuracy: 0.9375\n",
            "Epoch 55/150\n",
            "2/2 [==============================] - 0s 54ms/step - loss: 0.1607 - accuracy: 0.9297 - val_loss: 0.2298 - val_accuracy: 0.9375\n",
            "Epoch 56/150\n",
            "2/2 [==============================] - 0s 56ms/step - loss: 0.1678 - accuracy: 0.9453 - val_loss: 0.2231 - val_accuracy: 0.8750\n",
            "Epoch 57/150\n",
            "2/2 [==============================] - 0s 45ms/step - loss: 0.1542 - accuracy: 0.9453 - val_loss: 0.2295 - val_accuracy: 0.9062\n",
            "Epoch 58/150\n",
            "2/2 [==============================] - 0s 50ms/step - loss: 0.1702 - accuracy: 0.9297 - val_loss: 0.2134 - val_accuracy: 0.8750\n",
            "Epoch 59/150\n",
            "2/2 [==============================] - 0s 54ms/step - loss: 0.1664 - accuracy: 0.9531 - val_loss: 0.2213 - val_accuracy: 0.8750\n",
            "Epoch 60/150\n",
            "2/2 [==============================] - 0s 55ms/step - loss: 0.1852 - accuracy: 0.9297 - val_loss: 0.2372 - val_accuracy: 0.9062\n",
            "Epoch 61/150\n",
            "2/2 [==============================] - 0s 52ms/step - loss: 0.1687 - accuracy: 0.9453 - val_loss: 0.2378 - val_accuracy: 0.9062\n",
            "Epoch 62/150\n",
            "2/2 [==============================] - 0s 51ms/step - loss: 0.1686 - accuracy: 0.9531 - val_loss: 0.2185 - val_accuracy: 0.9375\n",
            "Epoch 63/150\n",
            "2/2 [==============================] - 0s 53ms/step - loss: 0.1543 - accuracy: 0.9375 - val_loss: 0.2153 - val_accuracy: 0.8750\n",
            "Epoch 64/150\n",
            "2/2 [==============================] - 0s 50ms/step - loss: 0.1531 - accuracy: 0.9453 - val_loss: 0.2100 - val_accuracy: 0.8750\n",
            "Epoch 65/150\n",
            "2/2 [==============================] - 0s 43ms/step - loss: 0.1561 - accuracy: 0.9531 - val_loss: 0.2153 - val_accuracy: 0.9375\n",
            "Epoch 66/150\n",
            "2/2 [==============================] - 0s 46ms/step - loss: 0.1474 - accuracy: 0.9531 - val_loss: 0.2112 - val_accuracy: 0.8438\n",
            "Epoch 67/150\n",
            "2/2 [==============================] - 0s 41ms/step - loss: 0.1468 - accuracy: 0.9609 - val_loss: 0.2036 - val_accuracy: 0.9062\n",
            "Epoch 68/150\n",
            "2/2 [==============================] - 0s 45ms/step - loss: 0.1469 - accuracy: 0.9609 - val_loss: 0.2091 - val_accuracy: 0.9062\n",
            "Epoch 69/150\n",
            "2/2 [==============================] - 0s 41ms/step - loss: 0.1507 - accuracy: 0.9531 - val_loss: 0.2066 - val_accuracy: 0.8438\n",
            "Epoch 70/150\n",
            "2/2 [==============================] - 0s 43ms/step - loss: 0.1668 - accuracy: 0.9531 - val_loss: 0.2042 - val_accuracy: 0.8750\n",
            "Epoch 71/150\n",
            "2/2 [==============================] - 0s 47ms/step - loss: 0.1912 - accuracy: 0.9141 - val_loss: 0.2061 - val_accuracy: 0.9062\n",
            "Epoch 72/150\n",
            "2/2 [==============================] - 0s 43ms/step - loss: 0.1406 - accuracy: 0.9609 - val_loss: 0.2346 - val_accuracy: 0.9062\n",
            "Epoch 73/150\n",
            "2/2 [==============================] - 0s 49ms/step - loss: 0.1703 - accuracy: 0.9453 - val_loss: 0.2152 - val_accuracy: 0.9062\n",
            "Epoch 74/150\n",
            "2/2 [==============================] - 0s 43ms/step - loss: 0.1550 - accuracy: 0.9297 - val_loss: 0.2057 - val_accuracy: 0.8750\n",
            "Epoch 75/150\n",
            "2/2 [==============================] - 0s 47ms/step - loss: 0.1413 - accuracy: 0.9609 - val_loss: 0.2074 - val_accuracy: 0.8750\n",
            "Epoch 76/150\n",
            "2/2 [==============================] - 0s 45ms/step - loss: 0.1542 - accuracy: 0.9531 - val_loss: 0.2017 - val_accuracy: 0.9062\n",
            "Epoch 77/150\n",
            "2/2 [==============================] - 0s 43ms/step - loss: 0.1443 - accuracy: 0.9453 - val_loss: 0.2056 - val_accuracy: 0.9062\n",
            "Epoch 78/150\n",
            "2/2 [==============================] - 0s 46ms/step - loss: 0.1664 - accuracy: 0.9453 - val_loss: 0.2037 - val_accuracy: 0.8750\n",
            "Epoch 79/150\n",
            "2/2 [==============================] - 0s 51ms/step - loss: 0.1504 - accuracy: 0.9453 - val_loss: 0.2129 - val_accuracy: 0.9062\n",
            "Epoch 80/150\n",
            "2/2 [==============================] - 0s 55ms/step - loss: 0.1456 - accuracy: 0.9609 - val_loss: 0.2082 - val_accuracy: 0.8750\n",
            "Epoch 81/150\n",
            "2/2 [==============================] - 0s 46ms/step - loss: 0.1720 - accuracy: 0.9531 - val_loss: 0.2031 - val_accuracy: 0.9062\n",
            "Epoch 82/150\n",
            "2/2 [==============================] - 0s 48ms/step - loss: 0.1356 - accuracy: 0.9531 - val_loss: 0.2326 - val_accuracy: 0.9062\n",
            "Epoch 83/150\n",
            "2/2 [==============================] - 0s 46ms/step - loss: 0.1725 - accuracy: 0.9219 - val_loss: 0.2169 - val_accuracy: 0.9062\n",
            "Epoch 84/150\n",
            "2/2 [==============================] - 0s 44ms/step - loss: 0.1607 - accuracy: 0.9531 - val_loss: 0.2082 - val_accuracy: 0.9375\n",
            "Epoch 85/150\n",
            "2/2 [==============================] - 0s 51ms/step - loss: 0.1635 - accuracy: 0.9219 - val_loss: 0.2043 - val_accuracy: 0.9375\n",
            "Epoch 86/150\n",
            "2/2 [==============================] - 0s 43ms/step - loss: 0.2003 - accuracy: 0.9297 - val_loss: 0.2160 - val_accuracy: 0.9062\n",
            "Epoch 87/150\n",
            "2/2 [==============================] - 0s 45ms/step - loss: 0.1599 - accuracy: 0.9297 - val_loss: 0.2681 - val_accuracy: 0.9062\n",
            "Epoch 88/150\n",
            "2/2 [==============================] - 0s 45ms/step - loss: 0.1843 - accuracy: 0.9375 - val_loss: 0.2306 - val_accuracy: 0.9062\n",
            "Epoch 89/150\n",
            "2/2 [==============================] - 0s 49ms/step - loss: 0.1642 - accuracy: 0.9531 - val_loss: 0.1991 - val_accuracy: 0.9062\n",
            "Epoch 90/150\n",
            "2/2 [==============================] - 0s 50ms/step - loss: 0.1492 - accuracy: 0.9297 - val_loss: 0.2019 - val_accuracy: 0.9062\n",
            "Epoch 91/150\n",
            "2/2 [==============================] - 0s 54ms/step - loss: 0.1336 - accuracy: 0.9609 - val_loss: 0.2135 - val_accuracy: 0.8750\n",
            "Epoch 92/150\n",
            "2/2 [==============================] - 0s 48ms/step - loss: 0.1646 - accuracy: 0.9531 - val_loss: 0.2040 - val_accuracy: 0.9375\n",
            "Epoch 93/150\n",
            "2/2 [==============================] - 0s 47ms/step - loss: 0.2509 - accuracy: 0.8906 - val_loss: 0.2018 - val_accuracy: 0.8750\n",
            "Epoch 94/150\n",
            "2/2 [==============================] - 0s 53ms/step - loss: 0.1895 - accuracy: 0.9375 - val_loss: 0.2419 - val_accuracy: 0.9062\n",
            "Epoch 95/150\n",
            "2/2 [==============================] - 0s 46ms/step - loss: 0.1441 - accuracy: 0.9688 - val_loss: 0.2747 - val_accuracy: 0.9062\n",
            "Epoch 96/150\n",
            "2/2 [==============================] - 0s 51ms/step - loss: 0.2072 - accuracy: 0.9062 - val_loss: 0.2065 - val_accuracy: 0.8750\n",
            "Epoch 97/150\n",
            "2/2 [==============================] - 0s 44ms/step - loss: 0.1637 - accuracy: 0.9375 - val_loss: 0.2280 - val_accuracy: 0.9062\n",
            "Epoch 98/150\n",
            "2/2 [==============================] - 0s 50ms/step - loss: 0.1396 - accuracy: 0.9688 - val_loss: 0.2614 - val_accuracy: 0.9062\n",
            "Epoch 99/150\n",
            "2/2 [==============================] - 0s 50ms/step - loss: 0.2022 - accuracy: 0.9062 - val_loss: 0.2056 - val_accuracy: 0.8750\n",
            "Epoch 100/150\n",
            "2/2 [==============================] - 0s 48ms/step - loss: 0.1475 - accuracy: 0.9609 - val_loss: 0.2033 - val_accuracy: 0.8750\n",
            "Epoch 101/150\n",
            "2/2 [==============================] - 0s 60ms/step - loss: 0.1422 - accuracy: 0.9609 - val_loss: 0.2020 - val_accuracy: 0.8750\n",
            "Epoch 102/150\n",
            "2/2 [==============================] - 0s 43ms/step - loss: 0.1385 - accuracy: 0.9531 - val_loss: 0.2035 - val_accuracy: 0.9062\n",
            "Epoch 103/150\n",
            "2/2 [==============================] - 0s 46ms/step - loss: 0.1342 - accuracy: 0.9609 - val_loss: 0.2089 - val_accuracy: 0.9375\n",
            "Epoch 104/150\n",
            "2/2 [==============================] - 0s 42ms/step - loss: 0.1408 - accuracy: 0.9531 - val_loss: 0.1982 - val_accuracy: 0.9062\n",
            "Epoch 105/150\n",
            "2/2 [==============================] - 0s 42ms/step - loss: 0.1572 - accuracy: 0.9453 - val_loss: 0.1969 - val_accuracy: 0.9062\n",
            "Epoch 106/150\n",
            "2/2 [==============================] - 0s 44ms/step - loss: 0.1325 - accuracy: 0.9531 - val_loss: 0.2149 - val_accuracy: 0.9375\n",
            "Epoch 107/150\n",
            "2/2 [==============================] - 0s 45ms/step - loss: 0.1405 - accuracy: 0.9453 - val_loss: 0.2024 - val_accuracy: 0.8750\n",
            "Epoch 108/150\n",
            "2/2 [==============================] - 0s 47ms/step - loss: 0.1457 - accuracy: 0.9609 - val_loss: 0.1956 - val_accuracy: 0.9062\n",
            "Epoch 109/150\n",
            "2/2 [==============================] - 0s 57ms/step - loss: 0.1338 - accuracy: 0.9609 - val_loss: 0.2040 - val_accuracy: 0.9375\n",
            "Epoch 110/150\n",
            "2/2 [==============================] - 0s 49ms/step - loss: 0.1392 - accuracy: 0.9609 - val_loss: 0.1949 - val_accuracy: 0.9062\n",
            "Epoch 111/150\n",
            "2/2 [==============================] - 0s 65ms/step - loss: 0.1458 - accuracy: 0.9531 - val_loss: 0.1953 - val_accuracy: 0.8750\n",
            "Epoch 112/150\n",
            "2/2 [==============================] - 0s 53ms/step - loss: 0.1385 - accuracy: 0.9609 - val_loss: 0.2009 - val_accuracy: 0.8750\n",
            "Epoch 113/150\n",
            "2/2 [==============================] - 0s 53ms/step - loss: 0.1603 - accuracy: 0.9453 - val_loss: 0.2114 - val_accuracy: 0.9375\n",
            "Epoch 114/150\n",
            "2/2 [==============================] - 0s 54ms/step - loss: 0.1366 - accuracy: 0.9609 - val_loss: 0.2077 - val_accuracy: 0.9062\n",
            "Epoch 115/150\n",
            "2/2 [==============================] - 0s 45ms/step - loss: 0.1677 - accuracy: 0.9531 - val_loss: 0.1923 - val_accuracy: 0.9062\n",
            "Epoch 116/150\n",
            "2/2 [==============================] - 0s 50ms/step - loss: 0.1271 - accuracy: 0.9609 - val_loss: 0.2527 - val_accuracy: 0.9062\n",
            "Epoch 117/150\n",
            "2/2 [==============================] - 0s 43ms/step - loss: 0.1822 - accuracy: 0.9062 - val_loss: 0.2362 - val_accuracy: 0.9062\n",
            "Epoch 118/150\n",
            "2/2 [==============================] - 0s 48ms/step - loss: 0.1750 - accuracy: 0.9453 - val_loss: 0.1996 - val_accuracy: 0.9062\n",
            "Epoch 119/150\n",
            "2/2 [==============================] - 0s 44ms/step - loss: 0.1535 - accuracy: 0.9297 - val_loss: 0.2117 - val_accuracy: 0.9375\n",
            "Epoch 120/150\n",
            "2/2 [==============================] - 0s 58ms/step - loss: 0.1403 - accuracy: 0.9453 - val_loss: 0.2267 - val_accuracy: 0.9062\n",
            "Epoch 121/150\n",
            "2/2 [==============================] - 0s 50ms/step - loss: 0.1614 - accuracy: 0.9531 - val_loss: 0.2028 - val_accuracy: 0.9375\n",
            "Epoch 122/150\n",
            "2/2 [==============================] - 0s 49ms/step - loss: 0.1692 - accuracy: 0.9141 - val_loss: 0.1912 - val_accuracy: 0.9062\n",
            "Epoch 123/150\n",
            "2/2 [==============================] - 0s 49ms/step - loss: 0.1653 - accuracy: 0.9531 - val_loss: 0.2178 - val_accuracy: 0.9062\n",
            "Epoch 124/150\n",
            "2/2 [==============================] - 0s 43ms/step - loss: 0.1525 - accuracy: 0.9453 - val_loss: 0.2359 - val_accuracy: 0.9375\n",
            "Epoch 125/150\n",
            "2/2 [==============================] - 0s 46ms/step - loss: 0.1629 - accuracy: 0.9297 - val_loss: 0.2088 - val_accuracy: 0.9062\n",
            "Epoch 126/150\n",
            "2/2 [==============================] - 0s 50ms/step - loss: 0.1604 - accuracy: 0.9453 - val_loss: 0.1943 - val_accuracy: 0.9062\n",
            "Epoch 127/150\n",
            "2/2 [==============================] - 0s 49ms/step - loss: 0.1299 - accuracy: 0.9609 - val_loss: 0.1941 - val_accuracy: 0.9062\n",
            "Epoch 128/150\n",
            "2/2 [==============================] - 0s 48ms/step - loss: 0.1373 - accuracy: 0.9609 - val_loss: 0.1906 - val_accuracy: 0.9375\n",
            "Epoch 129/150\n",
            "2/2 [==============================] - 0s 50ms/step - loss: 0.1386 - accuracy: 0.9531 - val_loss: 0.1917 - val_accuracy: 0.9062\n",
            "Epoch 130/150\n",
            "2/2 [==============================] - 0s 56ms/step - loss: 0.1471 - accuracy: 0.9453 - val_loss: 0.1989 - val_accuracy: 0.8750\n",
            "Epoch 131/150\n",
            "2/2 [==============================] - 0s 51ms/step - loss: 0.1281 - accuracy: 0.9688 - val_loss: 0.2081 - val_accuracy: 0.9062\n",
            "Epoch 132/150\n",
            "2/2 [==============================] - 0s 51ms/step - loss: 0.1475 - accuracy: 0.9453 - val_loss: 0.1892 - val_accuracy: 0.9062\n",
            "Epoch 133/150\n",
            "2/2 [==============================] - 0s 42ms/step - loss: 0.1303 - accuracy: 0.9688 - val_loss: 0.1942 - val_accuracy: 0.9062\n",
            "Epoch 134/150\n",
            "2/2 [==============================] - 0s 45ms/step - loss: 0.1440 - accuracy: 0.9453 - val_loss: 0.1957 - val_accuracy: 0.9375\n",
            "Epoch 135/150\n",
            "2/2 [==============================] - 0s 47ms/step - loss: 0.1286 - accuracy: 0.9609 - val_loss: 0.1997 - val_accuracy: 0.8750\n",
            "Epoch 136/150\n",
            "2/2 [==============================] - 0s 47ms/step - loss: 0.1569 - accuracy: 0.9531 - val_loss: 0.1908 - val_accuracy: 0.9062\n",
            "Epoch 137/150\n",
            "2/2 [==============================] - 0s 44ms/step - loss: 0.1292 - accuracy: 0.9453 - val_loss: 0.1976 - val_accuracy: 0.9375\n",
            "Epoch 138/150\n",
            "2/2 [==============================] - 0s 44ms/step - loss: 0.1387 - accuracy: 0.9531 - val_loss: 0.1931 - val_accuracy: 0.8750\n",
            "Epoch 139/150\n",
            "2/2 [==============================] - 0s 46ms/step - loss: 0.1396 - accuracy: 0.9688 - val_loss: 0.1932 - val_accuracy: 0.9375\n",
            "Epoch 140/150\n",
            "2/2 [==============================] - 0s 54ms/step - loss: 0.1320 - accuracy: 0.9531 - val_loss: 0.1890 - val_accuracy: 0.9062\n",
            "Epoch 141/150\n",
            "2/2 [==============================] - 0s 46ms/step - loss: 0.1441 - accuracy: 0.9609 - val_loss: 0.1918 - val_accuracy: 0.8750\n",
            "Epoch 142/150\n",
            "2/2 [==============================] - 0s 50ms/step - loss: 0.1373 - accuracy: 0.9609 - val_loss: 0.2125 - val_accuracy: 0.9375\n",
            "Epoch 143/150\n",
            "2/2 [==============================] - 0s 50ms/step - loss: 0.1480 - accuracy: 0.9375 - val_loss: 0.1852 - val_accuracy: 0.8750\n",
            "Epoch 144/150\n",
            "2/2 [==============================] - 0s 47ms/step - loss: 0.1653 - accuracy: 0.9609 - val_loss: 0.1931 - val_accuracy: 0.8750\n",
            "Epoch 145/150\n",
            "2/2 [==============================] - 0s 55ms/step - loss: 0.1346 - accuracy: 0.9375 - val_loss: 0.2317 - val_accuracy: 0.9375\n",
            "Epoch 146/150\n",
            "2/2 [==============================] - 0s 57ms/step - loss: 0.1651 - accuracy: 0.9219 - val_loss: 0.2190 - val_accuracy: 0.9062\n",
            "Epoch 147/150\n",
            "2/2 [==============================] - 0s 49ms/step - loss: 0.1850 - accuracy: 0.9375 - val_loss: 0.1918 - val_accuracy: 0.8438\n",
            "Epoch 148/150\n",
            "2/2 [==============================] - 0s 49ms/step - loss: 0.1580 - accuracy: 0.9453 - val_loss: 0.2302 - val_accuracy: 0.9375\n",
            "Epoch 149/150\n",
            "2/2 [==============================] - 0s 42ms/step - loss: 0.1587 - accuracy: 0.9297 - val_loss: 0.2671 - val_accuracy: 0.9062\n",
            "Epoch 150/150\n",
            "2/2 [==============================] - 0s 49ms/step - loss: 0.1854 - accuracy: 0.9375 - val_loss: 0.2037 - val_accuracy: 0.9062\n"
          ],
          "name": "stdout"
        }
      ]
    },
    {
      "cell_type": "code",
      "metadata": {
        "colab": {
          "base_uri": "https://localhost:8080/",
          "height": 282
        },
        "id": "PHx02IKbRu_s",
        "outputId": "2bd1ea90-0888-484e-e50c-588f02328809"
      },
      "source": [
        "import matplotlib.pyplot as plt\n",
        "\n",
        "plt.plot(history.history['loss'])\n",
        "plt.plot(history.history['val_loss'])"
      ],
      "execution_count": 67,
      "outputs": [
        {
          "output_type": "execute_result",
          "data": {
            "text/plain": [
              "[<matplotlib.lines.Line2D at 0x7f3ea134aed0>]"
            ]
          },
          "metadata": {
            "tags": []
          },
          "execution_count": 67
        },
        {
          "output_type": "display_data",
          "data": {
            "image/png": "[encoded data removed]",
            "text/plain": [
              "<Figure size 432x288 with 1 Axes>"
            ]
          },
          "metadata": {
            "tags": [],
            "needs_background": "light"
          }
        }
      ]
    }
  ]
}